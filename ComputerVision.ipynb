{
 "cells": [
  {
   "attachments": {},
   "cell_type": "markdown",
   "metadata": {},
   "source": [
    "## Importing Computer Vision Libraries"
   ]
  },
  {
   "cell_type": "code",
   "execution_count": 43,
   "metadata": {},
   "outputs": [],
   "source": [
    "import torch\n",
    "from torch import nn\n",
    "\n",
    "import torchvision\n",
    "from torchvision import datasets\n",
    "from torchvision.transforms import ToTensor\n",
    "\n",
    "import matplotlib.pyplot as plt\n",
    "\n",
    "from torch.utils.data import DataLoader\n",
    "\n",
    "import time\n"
   ]
  },
  {
   "cell_type": "code",
   "execution_count": 4,
   "metadata": {},
   "outputs": [],
   "source": [
    "device = \"cuda\" if torch.cuda.is_available() else 'cpu'"
   ]
  },
  {
   "attachments": {},
   "cell_type": "markdown",
   "metadata": {},
   "source": [
    "## Preparing the data"
   ]
  },
  {
   "cell_type": "code",
   "execution_count": 6,
   "metadata": {},
   "outputs": [],
   "source": [
    "#training data\n",
    "\n",
    "train_data = datasets.FashionMNIST(root='data', train= True, transform= ToTensor(), download= True)\n",
    "test_data = datasets.FashionMNIST(root='data', train= False, transform= ToTensor(), download= True)"
   ]
  },
  {
   "cell_type": "code",
   "execution_count": null,
   "metadata": {},
   "outputs": [],
   "source": [
    "print(f\" the length of training data is {len(train_data)}, length of test data  { len(test_data)}\")"
   ]
  },
  {
   "cell_type": "code",
   "execution_count": null,
   "metadata": {},
   "outputs": [],
   "source": [
    "#visualize any image randomly\n",
    "img, label = train_data[2]\n",
    "img, label"
   ]
  },
  {
   "cell_type": "code",
   "execution_count": null,
   "metadata": {},
   "outputs": [],
   "source": [
    "classnames = train_data.classes\n",
    "classnames"
   ]
  },
  {
   "cell_type": "code",
   "execution_count": null,
   "metadata": {},
   "outputs": [],
   "source": [
    "#visualize the image\n",
    "\n",
    "plt.imshow(img.squeeze(), cmap=\"gray\")\n",
    "plt.title(classnames[label])\n",
    "plt.axis(False)\n",
    "\n"
   ]
  },
  {
   "cell_type": "code",
   "execution_count": null,
   "metadata": {},
   "outputs": [],
   "source": [
    "#multiple random images\n",
    "torch.manual_seed(42)\n",
    "fig  = plt.Figure(figsize=(9,9))\n",
    "rows, cols = 4, 4\n",
    "\n",
    "for i in range(1, rows*cols +1):\n",
    "    #pick image randomly\n",
    "    random_idx = torch.randint(0, len(train_data), size=[1]).item()\n",
    "    img, label = train_data[random_idx]\n",
    "    fig.add_subplot(rows, cols, i)\n",
    "    plt.imshow(img.squeeze(), cmap = 'gray')\n",
    "    plt.axis(False)\n",
    "    plt.title(classnames[label])"
   ]
  },
  {
   "cell_type": "code",
   "execution_count": null,
   "metadata": {},
   "outputs": [],
   "source": [
    "#dataloader to loop through the dataset\n",
    "\n",
    "#hyperparameter\n",
    "BATCH_SIZE = 32\n",
    "\n",
    "train_data_batch = DataLoader(train_data, batch_size = BATCH_SIZE, shuffle= True )\n",
    "\n",
    "test_data_batch = DataLoader(test_data, batch_size = BATCH_SIZE, shuffle= False)\n",
    "\n",
    "print(f\" The reduced training databatch is {len(train_data_batch)}\")\n",
    "print(f\" The reduced test databatch is {len(test_data_batch)}\")"
   ]
  },
  {
   "cell_type": "code",
   "execution_count": 33,
   "metadata": {},
   "outputs": [
    {
     "data": {
      "text/plain": [
       "(torch.Size([32, 1, 28, 28]), torch.Size([32]))"
      ]
     },
     "execution_count": 33,
     "metadata": {},
     "output_type": "execute_result"
    }
   ],
   "source": [
    "# Check out what's inside the training dataloader\n",
    "train_features_batch, train_labels_batch = next(iter(train_data_batch))\n",
    "train_features_batch.shape, train_labels_batch.shape"
   ]
  },
  {
   "attachments": {},
   "cell_type": "markdown",
   "metadata": {},
   "source": [
    "## Creating a baseline model"
   ]
  },
  {
   "cell_type": "code",
   "execution_count": 37,
   "metadata": {},
   "outputs": [],
   "source": [
    "class FashionMNISTVO(nn.Module):\n",
    "    def __init__(self, input_shape: int, hidden_layers: int,  output_shape: int):\n",
    "        super().__init__()\n",
    "\n",
    "        self.linear_stack = nn.Sequential( nn.Flatten(),\n",
    "                                          nn.Linear(in_features= input_shape, out_features= hidden_layers),\n",
    "                                          nn.Linear(in_features= hidden_layers, out_features= output_shape),\n",
    "                                          )\n",
    "        \n",
    "\n",
    "    #define the forward method\n",
    "    def forward(self, x):\n",
    "        return self.linear_stack(x)"
   ]
  },
  {
   "cell_type": "code",
   "execution_count": 39,
   "metadata": {},
   "outputs": [
    {
     "data": {
      "text/plain": [
       "FashionMNISTVO(\n",
       "  (linear_stack): Sequential(\n",
       "    (0): Flatten(start_dim=1, end_dim=-1)\n",
       "    (1): Linear(in_features=784, out_features=10, bias=True)\n",
       "    (2): Linear(in_features=10, out_features=10, bias=True)\n",
       "  )\n",
       ")"
      ]
     },
     "execution_count": 39,
     "metadata": {},
     "output_type": "execute_result"
    }
   ],
   "source": [
    "#create a model for the class\n",
    "\n",
    "model_0 = FashionMNISTVO(input_shape= 784,\n",
    "                         hidden_layers= 10,\n",
    "                         output_shape=len(classnames)).to('cpu')\n",
    "\n",
    "model_0"
   ]
  },
  {
   "attachments": {},
   "cell_type": "markdown",
   "metadata": {},
   "source": [
    "## Setup loss, optimizer and evaluation metrics"
   ]
  },
  {
   "cell_type": "code",
   "execution_count": 40,
   "metadata": {},
   "outputs": [],
   "source": [
    "#loss function\n",
    "\n",
    "loss_fn = nn.CrossEntropyLoss()\n",
    "optimizer = torch.optim.SGD(model_0.parameters(), lr = 0.1)"
   ]
  },
  {
   "cell_type": "code",
   "execution_count": 42,
   "metadata": {},
   "outputs": [
    {
     "name": "stdout",
     "output_type": "stream",
     "text": [
      " Skipping the download the file already exists\n"
     ]
    }
   ],
   "source": [
    "#import helper functions\n",
    "\n",
    "import requests\n",
    "from pathlib import Path\n",
    "\n",
    "r = requests.get(url='https://raw.githubusercontent.com/mrdbourke/pytorch-deep-learning/main/helper_functions.py')\n",
    "\n",
    "if Path(\"helper_functions.py\").is_file():\n",
    "    print(\" Skipping the download the file already exists\")\n",
    "else:\n",
    "    print('Downloading file...........')\n",
    "\n",
    "    with open('helper_functions.py', 'wb') as f:\n",
    "\n",
    "        f.write(r.content)"
   ]
  },
  {
   "cell_type": "code",
   "execution_count": 44,
   "metadata": {},
   "outputs": [],
   "source": [
    "#time function\n",
    "\n",
    "def my_run_time(start_time, end_time):\n",
    "\n",
    "    return f\" the elapsed time is {start_time - end_time} seconds\"\n",
    "    "
   ]
  }
 ],
 "metadata": {
  "kernelspec": {
   "display_name": "Python 3",
   "language": "python",
   "name": "python3"
  },
  "language_info": {
   "codemirror_mode": {
    "name": "ipython",
    "version": 3
   },
   "file_extension": ".py",
   "mimetype": "text/x-python",
   "name": "python",
   "nbconvert_exporter": "python",
   "pygments_lexer": "ipython3",
   "version": "3.10.6"
  },
  "orig_nbformat": 4
 },
 "nbformat": 4,
 "nbformat_minor": 2
}
