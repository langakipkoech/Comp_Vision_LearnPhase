{
 "cells": [
  {
   "attachments": {},
   "cell_type": "markdown",
   "metadata": {},
   "source": [
    "#### Importing Computer Vision Libraries"
   ]
  },
  {
   "cell_type": "code",
   "execution_count": null,
   "metadata": {},
   "outputs": [],
   "source": [
    "import torch\n",
    "from torch import nn\n",
    "\n",
    "import torchvision\n",
    "from torchvision import datasets\n",
    "from torchvision.transforms import ToTensor\n",
    "\n",
    "import matplotlib.pyplot as plt\n",
    "\n",
    "from torch.utils.data import DataLoader\n",
    "\n",
    "import time\n"
   ]
  },
  {
   "cell_type": "code",
   "execution_count": null,
   "metadata": {},
   "outputs": [],
   "source": [
    "device = \"cuda\" if torch.cuda.is_available() else 'cpu'"
   ]
  },
  {
   "attachments": {},
   "cell_type": "markdown",
   "metadata": {},
   "source": [
    "#### Preparing the data"
   ]
  },
  {
   "cell_type": "code",
   "execution_count": null,
   "metadata": {},
   "outputs": [],
   "source": [
    "#training data\n",
    "\n",
    "train_data = datasets.FashionMNIST(root='data', train= True, transform= ToTensor(), download= True)\n",
    "test_data = datasets.FashionMNIST(root='data', train= False, transform= ToTensor(), download= True)"
   ]
  },
  {
   "cell_type": "code",
   "execution_count": null,
   "metadata": {},
   "outputs": [],
   "source": [
    "print(f\" the length of training data is {len(train_data)}, length of test data  { len(test_data)}\")"
   ]
  },
  {
   "cell_type": "code",
   "execution_count": null,
   "metadata": {},
   "outputs": [],
   "source": [
    "#visualize any image randomly\n",
    "img, label = train_data[2]\n",
    "img, label"
   ]
  },
  {
   "cell_type": "code",
   "execution_count": null,
   "metadata": {},
   "outputs": [],
   "source": [
    "classnames = train_data.classes\n",
    "classnames"
   ]
  },
  {
   "cell_type": "code",
   "execution_count": null,
   "metadata": {},
   "outputs": [],
   "source": [
    "#visualize the image\n",
    "\n",
    "plt.imshow(img.squeeze(), cmap=\"gray\")\n",
    "plt.title(classnames[label])\n",
    "plt.axis(False)\n",
    "\n"
   ]
  },
  {
   "cell_type": "code",
   "execution_count": null,
   "metadata": {},
   "outputs": [],
   "source": [
    "#multiple random images\n",
    "torch.manual_seed(42)\n",
    "fig  = plt.Figure(figsize=(9,9))\n",
    "rows, cols = 4, 4\n",
    "\n",
    "for i in range(1, rows*cols +1):\n",
    "    #pick image randomly\n",
    "    random_idx = torch.randint(0, len(train_data), size=[1]).item()\n",
    "    img, label = train_data[random_idx]\n",
    "    fig.add_subplot(rows, cols, i)\n",
    "    plt.imshow(img.squeeze(), cmap = 'gray')\n",
    "    plt.axis(False)\n",
    "    plt.title(classnames[label])"
   ]
  },
  {
   "cell_type": "code",
   "execution_count": null,
   "metadata": {},
   "outputs": [],
   "source": [
    "#dataloader to loop through the dataset\n",
    "\n",
    "#hyperparameter\n",
    "BATCH_SIZE = 32\n",
    "\n",
    "train_data_batch = DataLoader(train_data, batch_size = BATCH_SIZE, shuffle= True )\n",
    "\n",
    "test_data_batch = DataLoader(test_data, batch_size = BATCH_SIZE, shuffle= False)\n",
    "\n",
    "print(f\" The reduced training databatch is {len(train_data_batch)}\")\n",
    "print(f\" The reduced test databatch is {len(test_data_batch)}\")"
   ]
  },
  {
   "cell_type": "code",
   "execution_count": null,
   "metadata": {},
   "outputs": [],
   "source": [
    "# Check out what's inside the training dataloader\n",
    "train_features_batch, train_labels_batch = next(iter(train_data_batch))\n",
    "train_features_batch.shape, train_labels_batch.shape"
   ]
  },
  {
   "attachments": {},
   "cell_type": "markdown",
   "metadata": {},
   "source": [
    "#### Creating a baseline model"
   ]
  },
  {
   "cell_type": "code",
   "execution_count": null,
   "metadata": {},
   "outputs": [],
   "source": [
    "class FashionMNISTVO(nn.Module):\n",
    "    def __init__(self, input_shape: int, hidden_layers: int,  output_shape: int):\n",
    "        super().__init__()\n",
    "\n",
    "        self.linear_stack = nn.Sequential( nn.Flatten(),\n",
    "                                          nn.Linear(in_features= input_shape, out_features= hidden_layers),\n",
    "                                          nn.Linear(in_features= hidden_layers, out_features= output_shape),\n",
    "                                          )\n",
    "        \n",
    "\n",
    "    #define the forward method\n",
    "    def forward(self, x):\n",
    "        return self.linear_stack(x)"
   ]
  },
  {
   "cell_type": "code",
   "execution_count": null,
   "metadata": {},
   "outputs": [],
   "source": [
    "#create a model for the class\n",
    "\n",
    "model_0 = FashionMNISTVO(input_shape= 784,\n",
    "                         hidden_layers= 10,\n",
    "                         output_shape=len(classnames)).to('cpu')\n",
    "\n",
    "model_0"
   ]
  },
  {
   "attachments": {},
   "cell_type": "markdown",
   "metadata": {},
   "source": [
    "#### Setup loss, optimizer and evaluation metrics"
   ]
  },
  {
   "cell_type": "code",
   "execution_count": null,
   "metadata": {},
   "outputs": [],
   "source": [
    "#loss function\n",
    "\n",
    "loss_fn = nn.CrossEntropyLoss()\n",
    "optimizer = torch.optim.SGD(model_0.parameters(), lr = 0.1)"
   ]
  },
  {
   "cell_type": "code",
   "execution_count": null,
   "metadata": {},
   "outputs": [],
   "source": [
    "#import helper functions\n",
    "\n",
    "import requests\n",
    "from pathlib import Path\n",
    "\n",
    "r = requests.get(url='https://raw.githubusercontent.com/mrdbourke/pytorch-deep-learning/main/helper_functions.py')\n",
    "\n",
    "if Path(\"helper_functions.py\").is_file():\n",
    "    print(\" Skipping the download the file already exists\")\n",
    "else:\n",
    "    print('Downloading file...........')\n",
    "\n",
    "    with open('helper_functions.py', 'wb') as f:\n",
    "\n",
    "        f.write(r.content)"
   ]
  },
  {
   "cell_type": "code",
   "execution_count": null,
   "metadata": {},
   "outputs": [],
   "source": [
    "#time function\n",
    "\n",
    "def my_run_time(start_time, end_time):\n",
    "\n",
    "    return f\" the elapsed time is { end_time - start_time} seconds\"\n",
    "    "
   ]
  },
  {
   "cell_type": "code",
   "execution_count": null,
   "metadata": {},
   "outputs": [],
   "source": [
    "from tqdm.auto import tqdm\n",
    "\n",
    "#set the manual seed\n",
    "torch.manual_seed(42)\n",
    "#set the timer\n",
    "start_time = time.time()\n",
    "\n",
    "#set the epochs\n",
    "epochs = 3\n",
    "\n",
    "for epoch in tqdm(range(epochs)):\n",
    "\n",
    "    print(f\" this is epoch number {epoch}\")\n",
    "\n",
    "    train_loss = 0\n",
    "\n",
    "    for batch, (X,y) in enumerate(train_data_batch):\n",
    "\n",
    "        #train model\n",
    "        model_0.train()\n",
    "\n",
    "        #do the forward pass\n",
    "        y_train_pred = model_0(X)\n",
    "\n",
    "        #calculate the loss\n",
    "        loss = loss_fn(y_train_pred, y)\n",
    "        train_loss += loss\n",
    "\n",
    "        #zero gradient\n",
    "\n",
    "        optimizer.zero_grad()\n",
    "\n",
    "        #loss backward\n",
    "        loss.backward()\n",
    "\n",
    "        #optimze step\n",
    "        optimizer.step()\n",
    "\n",
    "        if batch % 500 == 0:\n",
    "            print(f\"the batches checked are {batch * len(X)}\")\n",
    "\n",
    "        train_loss /= len(train_data_batch)\n",
    "\n",
    "        #testing\n",
    "\n",
    "        test_loss, acc = 0, 0\n",
    "\n",
    "    model_0.eval()\n",
    "\n",
    "    with torch.inference_mode():\n",
    "\n",
    "            #do forward pass\n",
    "\n",
    "        for batch, (X,y) in enumerate(test_data_batch):\n",
    "                #do the forward pass\n",
    "            y_test = model_0(X)\n",
    "\n",
    "                #calculate the loss\n",
    "            t_loss = loss_fn(y_test, y)\n",
    "            test_loss += t_loss\n",
    "\n",
    "        test_loss /= len(test_data_batch)\n",
    "\n",
    "    print(f\" the training loss is {train_loss:.6f}        <||||     test loss {test_loss:.6f}\")\n",
    "\n",
    "end_time = time.time()\n",
    "\n",
    "\n",
    "print(my_run_time(start_time, end_time))"
   ]
  },
  {
   "attachments": {},
   "cell_type": "markdown",
   "metadata": {},
   "source": [
    "#### Adding Non-Linearity to our Model\n"
   ]
  },
  {
   "cell_type": "code",
   "execution_count": null,
   "metadata": {},
   "outputs": [],
   "source": [
    "class FashionMNISTV1(nn.Module):\n",
    "\n",
    "    def __init__(self, input_shape: int, hidden_layers : int, output_shape: int ):\n",
    "        super().__init__()\n",
    "\n",
    "        self.linear_stacktwo = nn.Sequential( nn.Flatten(),\n",
    "                                             nn.Linear(in_features= input_shape, out_features= hidden_layers),\n",
    "                                             nn.ReLU(),\n",
    "                                             nn.Linear(in_features=hidden_layers, out_features= output_shape),\n",
    "                                             nn.ReLU())\n",
    "        \n",
    "\n",
    "    def forward(self, x: torch.Tensor):\n",
    "        return self.linear_stacktwo(x)\n",
    "        "
   ]
  },
  {
   "cell_type": "code",
   "execution_count": null,
   "metadata": {},
   "outputs": [],
   "source": [
    "#instantiate the class\n",
    "\n",
    "model_1 = FashionMNISTV1(input_shape=784,\n",
    "                         hidden_layers= 10,\n",
    "                         output_shape=len(classnames)).to(device='cpu')\n",
    "\n",
    "model_1"
   ]
  },
  {
   "attachments": {},
   "cell_type": "markdown",
   "metadata": {},
   "source": [
    "#### Loss function and Accuracy metrics"
   ]
  },
  {
   "cell_type": "code",
   "execution_count": null,
   "metadata": {},
   "outputs": [],
   "source": [
    "from helper_functions import accuracy_fn\n",
    "\n",
    "loss_fn = nn.CrossEntropyLoss()\n",
    "\n",
    "optimizer = torch.optim.SGD(model_1.parameters(), lr = 0.1)\n",
    "\n"
   ]
  },
  {
   "attachments": {},
   "cell_type": "markdown",
   "metadata": {},
   "source": [
    "#### functionalizing the testing and training loop"
   ]
  },
  {
   "cell_type": "code",
   "execution_count": null,
   "metadata": {},
   "outputs": [],
   "source": [
    "def training_step(model: torch.nn.Module,\n",
    "                  optimizer: torch.optim.Optimizer,\n",
    "                  loss: torch.nn.Module,\n",
    "                  dataloader: torch.utils.data.DataLoader,\n",
    "                  accuracy_fn,\n",
    "                  device: torch.device = device):\n",
    "    \n",
    "\n",
    "    model.to(device)\n",
    "\n",
    "    train_acc, train_loss = 0, 0\n",
    "\n",
    "    for batch, (X,y) in enumerate(dataloader):\n",
    "\n",
    "        model.train()\n",
    "\n",
    "        #do the forward pass\n",
    "\n",
    "        y_pred = model(X)\n",
    "\n",
    "        #calculate the loss\n",
    "        loss = loss_fn(y_pred, y)\n",
    "        train_loss = loss\n",
    "\n",
    "        #accuracy function\n",
    "        train_acc = accuracy_fn(y_true= y, y_pred= y_pred.argmax(dim=1))\n",
    "\n",
    "        #optimizer\n",
    "\n",
    "        optimizer.zero_grad()\n",
    "\n",
    "        #loss backward\n",
    "        loss.backward()\n",
    "\n",
    "        #optimizer step\n",
    "        optimizer.step()\n",
    "\n",
    "        if batch % 440 == 0:\n",
    "\n",
    "            print(f\"the train loss is {train_loss:.5f}     || \")\n",
    "            print(f\"the train accuracy is {train_acc:.5f}     || \")\n",
    "\n",
    "    \n",
    "    "
   ]
  },
  {
   "cell_type": "code",
   "execution_count": null,
   "metadata": {},
   "outputs": [],
   "source": [
    "def test_step(model: torch.nn.Module,\n",
    "                  accuracy_fn,\n",
    "                  loss_fn: torch.nn.Module,\n",
    "                  dataloader: torch.utils.data.DataLoader,\n",
    "                  device: torch.device = device):\n",
    "    model.to(device)\n",
    "\n",
    "    model.eval()\n",
    "    test_loss = 0\n",
    "    train_acc = 0\n",
    "\n",
    "\n",
    "    #loop through the dataset data\n",
    "\n",
    "    with torch.inference_mode():\n",
    "\n",
    "        for batch, (X,y) in enumerate(dataloader):\n",
    "\n",
    "            #forwward pass\n",
    "\n",
    "            y_test = model(X)\n",
    "\n",
    "            #calculate the loss\n",
    "\n",
    "            loss = loss_fn(y_test, y)\n",
    "            test_loss = loss\n",
    "\n",
    "            train_acc = accuracy_fn(y_true= y, y_pred=y_test.argmax(dim=1)) \n",
    "\n",
    "            if batch % 440 == 0:\n",
    "                print(f\"the test loss is {test_loss:.5f}     || \")\n",
    "                print(f\" test accuracy is {train_acc}\")\n",
    "\n",
    "           \n"
   ]
  },
  {
   "cell_type": "code",
   "execution_count": null,
   "metadata": {},
   "outputs": [],
   "source": [
    "#run a loop through all the data \n",
    "\n",
    "start_time = time.time()\n",
    "\n",
    "epochs = 3\n",
    "\n",
    "for epoch in tqdm(range(epochs)):\n",
    "\n",
    "    #training data\n",
    "    training_step(model=model_1,\n",
    "                  optimizer= optimizer,\n",
    "                  accuracy_fn= accuracy_fn,\n",
    "                  loss = loss_fn,\n",
    "                  dataloader=train_data_batch,\n",
    "                  device= 'cpu' )\n",
    "    \n",
    "    test_step(model= model_1,\n",
    "              loss_fn= loss_fn,\n",
    "              accuracy_fn=accuracy_fn,\n",
    "              dataloader= test_data_batch,\n",
    "              device= 'cpu')\n",
    "\n",
    "\n",
    "end_time = time.time()\n",
    "\n",
    "print(my_run_time(start_time, end_time))"
   ]
  },
  {
   "attachments": {},
   "cell_type": "markdown",
   "metadata": {},
   "source": [
    "### Convolutional Neural Network"
   ]
  },
  {
   "cell_type": "code",
   "execution_count": null,
   "metadata": {},
   "outputs": [],
   "source": [
    "class FashionMNISTV2(nn.Module):\n",
    "    #class constructor\n",
    "    def __init__(self, input_shape: int, hidden_units: int, output_shape: int):\n",
    "        super().__init__()\n",
    "\n",
    "        self.conv_block_1 = nn.Sequential(\n",
    "            nn.Conv2d(in_channels= input_shape,\n",
    "                      out_channels= hidden_units,\n",
    "                      kernel_size= 3,\n",
    "                      stride= 1,\n",
    "                      padding=1),\n",
    "            nn.ReLU(),\n",
    "            nn.Conv2d( in_channels = hidden_units,\n",
    "                      out_channels = hidden_units,\n",
    "                      kernel_size = 3,\n",
    "                      stride = 1,\n",
    "                      padding= 1),\n",
    "            nn.ReLU(),\n",
    "            nn.MaxPool2d(kernel_size= 2, stride = 2))\n",
    "        \n",
    "        self.conv_block_2 = nn.Sequential(\n",
    "            nn.Conv2d(in_channels= hidden_units,\n",
    "                      out_channels= hidden_units,\n",
    "                      kernel_size= 3,\n",
    "                      stride= 1,\n",
    "                      padding=1),\n",
    "            nn.ReLU(),\n",
    "            nn.Conv2d( in_channels = hidden_units,\n",
    "                      out_channels = hidden_units,\n",
    "                      kernel_size = 3,\n",
    "                      stride = 1,\n",
    "                      padding= 1),\n",
    "            nn.ReLU(),\n",
    "            nn.MaxPool2d(kernel_size= 2, stride = 2)            \n",
    "\n",
    "        )\n",
    "\n",
    "        dummy_input = torch.zeros((1, input_shape, 28, 28))\n",
    "        dummy_output = self.conv_block_2(self.conv_block_1(dummy_input))\n",
    "        input_size = dummy_output.flatten(1).shape[1]\n",
    "\n",
    "       \n",
    "        self.classifier = nn.Sequential(\n",
    "            nn.Flatten(),\n",
    "            nn.Linear(in_features= input_size, out_features= output_shape, )\n",
    "        )\n",
    "\n",
    "    def forward(self, x: torch.Tensor):\n",
    "\n",
    "        x = self.conv_block_1(x)\n",
    "\n",
    "        x = self.conv_block_2(x)\n",
    "\n",
    "        x = x.flatten(1)\n",
    "\n",
    "       \n",
    "\n",
    "        x = self.classifier(x)\n",
    "\n",
    "        return x"
   ]
  },
  {
   "cell_type": "code",
   "execution_count": null,
   "metadata": {},
   "outputs": [],
   "source": [
    "## create an instance of a class\n",
    "\n",
    "model_2 = FashionMNISTV2( input_shape=1,\n",
    "                         hidden_units= 10,\n",
    "                         output_shape= len(classnames))\n",
    "\n",
    "model_2"
   ]
  },
  {
   "cell_type": "code",
   "execution_count": null,
   "metadata": {},
   "outputs": [],
   "source": [
    "#pass random image through the model\n",
    "\n",
    "rand_out = model_2(img.unsqueeze(1))\n",
    "rand_out"
   ]
  },
  {
   "attachments": {},
   "cell_type": "markdown",
   "metadata": {},
   "source": [
    "##### Loss function and Optimizer"
   ]
  },
  {
   "cell_type": "code",
   "execution_count": null,
   "metadata": {},
   "outputs": [],
   "source": [
    "from helper_functions import accuracy_fn\n",
    "\n",
    "\n",
    "loss_fn = nn.CrossEntropyLoss()\n",
    "optimizer = torch.optim.SGD(params = model_2.parameters(), lr=0.01 )\n",
    "\n",
    "\n",
    "model_2.state_dict()"
   ]
  },
  {
   "cell_type": "code",
   "execution_count": null,
   "metadata": {},
   "outputs": [],
   "source": [
    "## run the training and test loop\n",
    "\n",
    "epochs = 3\n",
    "\n",
    "\n",
    "start_time = time.time()\n",
    "\n",
    "for epoch in tqdm(range(epochs)):\n",
    "\n",
    "    print(f\" this is the {epoch} number\")\n",
    "\n",
    "    training_step( model= model_2,\n",
    "                  optimizer= optimizer,\n",
    "                  loss = loss_fn,\n",
    "                  accuracy_fn = accuracy_fn,\n",
    "                  dataloader= train_data_batch,\n",
    "                  device= 'cpu')\n",
    "    \n",
    "\n",
    "    test_step( model= model_2,\n",
    "              loss_fn= loss_fn,\n",
    "              accuracy_fn= accuracy_fn,\n",
    "              dataloader= test_data_batch,\n",
    "              device= 'cpu')\n",
    "    \n",
    "end_time = time.time()\n",
    "\n",
    "print(my_run_time(start_time = start_time, end_time= end_time))"
   ]
  },
  {
   "cell_type": "code",
   "execution_count": null,
   "metadata": {},
   "outputs": [],
   "source": [
    "## Evaluation model\n",
    "\n",
    "torch.manual_seed(42)\n",
    "\n",
    "def eval_model(model: torch.nn.Module,\n",
    "               dataloader: torch.utils.data,\n",
    "               accuracy_fn,\n",
    "               loss_fn: nn.Module,\n",
    "               device: torch.device = device):\n",
    "    \n",
    "    acc, loss = 0, 0\n",
    "\n",
    "    model.eval()\n",
    "\n",
    "    with torch.inference_mode():\n",
    "        for batch, (X,y) in enumerate(dataloader):\n",
    "            # define forward pass\n",
    "            y_test = model(X)\n",
    "\n",
    "            #loss fn and accuracy function\n",
    "            loss += loss_fn(y_test, y)\n",
    "\n",
    "            acc += accuracy_fn(y_true= y, y_pred= y_test.argmax(dim=1))\n",
    "\n",
    "    return {\"model_name\": model.__class__.__name__, # only works when model was created with a class\n",
    "            \"model_loss\": loss.item(),\n",
    "            \"model_acc\": acc}"
   ]
  },
  {
   "cell_type": "code",
   "execution_count": null,
   "metadata": {},
   "outputs": [],
   "source": [
    "#making predictions based on the \n",
    "\n",
    "def make_predictions(model: nn.Module,\n",
    "                     data: list,\n",
    "                     device: torch.device = device,\n",
    "                     ):\n",
    "    \n",
    "    pred_probs = []\n",
    "\n",
    "    model.eval()\n",
    "\n",
    "    with torch.inference_mode():\n",
    "\n",
    "        for sample in data:\n",
    "\n",
    "            #make a forward pass\n",
    "\n",
    "            y_preds = model(sample)\n",
    "\n",
    "            #turn the predictions to probabilities\n",
    "\n",
    "            pred_prob = torch.softmax(y_preds.squeeze(), dim=0)\n",
    "\n",
    "            #append to list\n",
    "\n",
    "            pred_probs.append(pred_prob)\n",
    "\n",
    "    return torch.stack(pred_probs)"
   ]
  },
  {
   "cell_type": "code",
   "execution_count": null,
   "metadata": {},
   "outputs": [],
   "source": [
    "import random\n",
    "\n",
    "random.seed(42)\n",
    "\n",
    "#prepare data\n",
    "test_sample = []\n",
    "test_label = []\n",
    "\n",
    "for sample, label in random.sample(list(test_data), k = 9):\n",
    "    test_sample.append(sample.unsqueeze(1))\n",
    "    test_label.append(label)"
   ]
  },
  {
   "cell_type": "code",
   "execution_count": null,
   "metadata": {},
   "outputs": [],
   "source": [
    "#make preduictions using our prediction function\n",
    "\n",
    "predi_probs = make_predictions(model_2, data= test_sample, device= 'cpu')\n",
    "\n",
    "#convert to prediction probs\n",
    "\n",
    "prediction_probs = predi_probs.argmax(dim=1)\n",
    "\n",
    "prediction_probs, test_label"
   ]
  },
  {
   "cell_type": "code",
   "execution_count": null,
   "metadata": {},
   "outputs": [],
   "source": [
    "#making visuals of the data\n",
    "\n",
    "# Plot predictions\n",
    "plt.figure(figsize=(9, 9))\n",
    "nrows = 3\n",
    "ncols = 3\n",
    "for i, sample in enumerate(test_sample):\n",
    "  # Create a subplot\n",
    "  plt.subplot(nrows, ncols, i+1)\n",
    "\n",
    "  # Plot the target image\n",
    "  plt.imshow(sample.squeeze(), cmap=\"gray\")\n",
    "\n",
    "  # Find the prediction label (in text form, e.g. \"Sandal\")\n",
    "  pred_label = classnames[prediction_probs[i]]\n",
    "\n",
    "  # Get the truth label (in text form, e.g. \"T-shirt\")\n",
    "  truth_label = classnames[test_label[i]] \n",
    "\n",
    "  # Create the title text of the plot\n",
    "  title_text = f\"Pred: {pred_label} | Truth: {truth_label}\"\n",
    "  \n",
    "  # Check for equality and change title colour accordingly\n",
    "  if pred_label == truth_label:\n",
    "      plt.title(title_text, fontsize=10, c=\"b\") # green text if correct\n",
    "  else:\n",
    "      plt.title(title_text, fontsize=10, c=\"g\") # red text if wrong\n",
    "  plt.axis(False);"
   ]
  }
 ],
 "metadata": {
  "kernelspec": {
   "display_name": "Python 3",
   "language": "python",
   "name": "python3"
  },
  "language_info": {
   "codemirror_mode": {
    "name": "ipython",
    "version": 3
   },
   "file_extension": ".py",
   "mimetype": "text/x-python",
   "name": "python",
   "nbconvert_exporter": "python",
   "pygments_lexer": "ipython3",
   "version": "3.10.6"
  },
  "orig_nbformat": 4
 },
 "nbformat": 4,
 "nbformat_minor": 2
}
